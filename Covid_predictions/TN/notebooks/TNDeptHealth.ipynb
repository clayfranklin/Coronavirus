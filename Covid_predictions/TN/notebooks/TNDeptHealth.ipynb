{
 "cells": [
  {
   "cell_type": "code",
   "execution_count": 1,
   "metadata": {},
   "outputs": [],
   "source": [
    "import pandas as pd\n",
    "from bs4 import BeautifulSoup as bs\n",
    "import requests\n",
    "import datetime\n",
    "import numpy as np\n"
   ]
  },
  {
   "cell_type": "code",
   "execution_count": null,
   "metadata": {},
   "outputs": [],
   "source": [
    "daily = \"https://www.tn.gov/health/cedep/ncov.html\"\n",
    "viral = pd.read_html(daily)\n",
    "df=viral[3]\n",
    "testing = df.drop([10])\n",
    "age_groups = testing.rename(columns={'Age Ranges of Confirmed Cases.1': 'Number_Cases'})\n",
    "age_groups\n"
   ]
  },
  {
   "cell_type": "code",
   "execution_count": null,
   "metadata": {},
   "outputs": [],
   "source": [
    "daily = \"https://www.tn.gov/health/cedep/ncov.html\"\n",
    "viral = pd.read_html(daily)\n",
    "df2 = viral[5]\n",
    "df2"
   ]
  },
  {
   "cell_type": "code",
   "execution_count": null,
   "metadata": {
    "scrolled": true
   },
   "outputs": [],
   "source": []
  },
  {
   "cell_type": "code",
   "execution_count": null,
   "metadata": {},
   "outputs": [],
   "source": []
  },
  {
   "cell_type": "code",
   "execution_count": 18,
   "metadata": {
    "scrolled": true
   },
   "outputs": [
    {
     "name": "stdout",
     "output_type": "stream",
     "text": [
      "['+36.116731', '+35.513660', '+36.069253', '+35.593668', '+35.688185', '+35.153914', '+36.401592', '+35.808394', '+35.967896', '+36.284744', '+36.255180', '+35.416639', '+36.501557', '+36.545765', '+35.916198', '+35.488759', '+35.811312', '+35.952398', '+36.169129', '+35.603422', '+35.982220', '+36.145533', '+36.054196', '+35.196993', '+36.376079', '+35.155926', '+35.991694', '+35.202723', '+36.277463', '+36.178998', '+35.387273', '+36.218397', '+35.159186', '+36.521420', '+35.218131', '+35.201893', '+36.452206', '+35.586690', '+35.653995', '+36.325398', '+35.802396', '+36.285777', '+36.040440', '+36.354242', '+36.048479', '+36.453204', '+35.992727', '+36.333905', '+35.762951', '+35.220476', '+35.523244', '+35.142532', '+35.737450', '+35.424471', '+35.175626', '+36.537838', '+35.606056', '+35.133422', '+35.468387', '+35.615696', '+35.503397', '+35.447666', '+36.500354', '+35.288889', '+36.138697', '+36.358175', '+36.344850', '+35.659785', '+36.559364', '+35.109437', '+36.140807', '+35.600587', '+35.847472', '+36.527530', '+35.843369', '+36.437239', '+35.372335', '+35.791284', '+35.183794', '+36.255650', '+36.511756', '+36.510212', '+36.470015', '+35.500297', '+36.393030', '+36.100215', '+36.284140', '+35.699245', '+35.678282', '+36.295665', '+35.242687', '+36.303523', '+35.927062', '+35.894972', '+36.148476']\n"
     ]
    },
    {
     "name": "stderr",
     "output_type": "stream",
     "text": [
      "C:\\Users\\clayf\\Anaconda3\\lib\\site-packages\\ipykernel_launcher.py:25: SettingWithCopyWarning: \n",
      "A value is trying to be set on a copy of a slice from a DataFrame.\n",
      "Try using .loc[row_indexer,col_indexer] = value instead\n",
      "\n",
      "See the caveats in the documentation: http://pandas.pydata.org/pandas-docs/stable/user_guide/indexing.html#returning-a-view-versus-a-copy\n",
      "C:\\Users\\clayf\\Anaconda3\\lib\\site-packages\\ipykernel_launcher.py:26: SettingWithCopyWarning: \n",
      "A value is trying to be set on a copy of a slice from a DataFrame.\n",
      "Try using .loc[row_indexer,col_indexer] = value instead\n",
      "\n",
      "See the caveats in the documentation: http://pandas.pydata.org/pandas-docs/stable/user_guide/indexing.html#returning-a-view-versus-a-copy\n",
      "C:\\Users\\clayf\\Anaconda3\\lib\\site-packages\\ipykernel_launcher.py:31: SettingWithCopyWarning: \n",
      "A value is trying to be set on a copy of a slice from a DataFrame.\n",
      "Try using .loc[row_indexer,col_indexer] = value instead\n",
      "\n",
      "See the caveats in the documentation: http://pandas.pydata.org/pandas-docs/stable/user_guide/indexing.html#returning-a-view-versus-a-copy\n",
      "C:\\Users\\clayf\\Anaconda3\\lib\\site-packages\\ipykernel_launcher.py:32: SettingWithCopyWarning: \n",
      "A value is trying to be set on a copy of a slice from a DataFrame.\n",
      "Try using .loc[row_indexer,col_indexer] = value instead\n",
      "\n",
      "See the caveats in the documentation: http://pandas.pydata.org/pandas-docs/stable/user_guide/indexing.html#returning-a-view-versus-a-copy\n"
     ]
    }
   ],
   "source": [
    "# TNY='https://en.wikipedia.org/wiki/User:Michael_J/County_table'\n",
    "# stuff=pd.read_html(TNY)\n",
    "# TN_land_data=stuff[0]\n",
    "# TN_land_data.to_csv('C:/Users/clayf/Documents/Coronavirus/Covid_predictions/TN/Resources/TN_land_data.csv')\n",
    "land_data=pd.read_csv('C:/Users/clayf/Documents/Coronavirus/Covid_predictions/TN/Resources/TN_land_data.csv')\n",
    "TN_lat_long=land_data[land_data['State'] == 'TN']\n",
    "\n",
    "lat=TN_lat_long.iloc[:,13]\n",
    "long=TN_lat_long.iloc[:,14]\n",
    "lats=[]\n",
    "longs=[]\n",
    "for i in lat:\n",
    "    x=i[:-1]\n",
    "  \n",
    "    \n",
    "    lats.append(x)\n",
    "\n",
    "for steve in long:\n",
    "    y=steve[:-1]\n",
    "  \n",
    "    longs.append(y)\n",
    "print(lats)\n",
    "\n",
    "\n",
    "TN_lat_long['Latitude']=lats\n",
    "TN_lat_long[\"Longitude\"]=longs\n",
    "\n",
    "\n",
    "TN_lat_long.reset_index(drop=True, inplace=True)\n",
    "TN_lat_long.drop([\"Unnamed: 0\", \"Sort [1]\"],axis=1)\n",
    "TN_lat_long[\"Region\"] = 'US-TN'\n",
    "TN_lat_long[\"Country\"] = 'United States'\n",
    "TN_lat_long\n",
    "\n",
    "TN_lat_long.to_csv('C:/Users/clayf/Documents/Coronavirus/Covid_predictions/TN/Resources/TN_geo_data.csv', index=False)"
   ]
  },
  {
   "cell_type": "code",
   "execution_count": null,
   "metadata": {},
   "outputs": [],
   "source": [
    "daily = \"https://www.tn.gov/health/cedep/ncov.html\"\n",
    "viral = pd.read_html(daily)\n",
    "df2 = viral[5]\n",
    "TN_county = df2[:-3]\n",
    "headers=TN_county.columns.values.tolist()\n",
    "TN_county[\"County\"]=TN_county[\"County\"].str.split(\" County\", expand = True)\n",
    "TN_county.columns = ['County', 'Positive', 'Negative', 'Death']\n",
    "TN_county\n"
   ]
  },
  {
   "cell_type": "code",
   "execution_count": null,
   "metadata": {},
   "outputs": [],
   "source": [
    "date = datetime.datetime.today()\n",
    "date_modify=str(date)\n",
    "date_to_add = date_modify[0:10]\n",
    "TN_county[\"Date\"]=date_to_add"
   ]
  },
  {
   "cell_type": "code",
   "execution_count": null,
   "metadata": {},
   "outputs": [],
   "source": [
    "TNpop = pd.read_csv(\"Population Estimates by County.csv\")\n",
    "TNpop= TNpop.drop([96])\n",
    "TNpop = TNpop.drop([0])\n",
    "TNpop[\"Population Estimates by County\"]= TNpop[\"Population Estimates by County\"].str.split(\" County\", n = 1, expand = True)\n",
    "TNpop = TNpop.rename(columns={'Population Estimates by County': 'County'})\n",
    "TN_county_populations = TNpop.rename(columns={'Unnamed: 1': 'Population'})\n",
    "TN_county_populations[\"Population\"] = TN_county_populations[\"Population\"].str.replace(\",\",\"\").astype(int)\n",
    "TN_county_populations\n"
   ]
  },
  {
   "cell_type": "code",
   "execution_count": null,
   "metadata": {},
   "outputs": [],
   "source": [
    "TN_data = TN_county_populations.merge(TN_county,left_on='County',right_on='County', how='left')\n",
    "TN_data[\"Percentage of County Population\"] = round((TN_data[\"Positive\"]/TN_data[\"Population\"])*100,3)\n",
    "TN_data=TN_data.sort_values(\"Positive\", ascending=False).reset_index(drop=True)\n",
    "TN_data[\"Percent_Tested\"] = round(((TN_data[\"Positive\"]+TN_data[\"Negative\"])/TN_data[\"Population\"])*100,1)\n",
    "TN_data"
   ]
  },
  {
   "cell_type": "code",
   "execution_count": null,
   "metadata": {
    "scrolled": true
   },
   "outputs": [],
   "source": [
    "to_update=pd.read_csv(\"C:/Users/clayf/Documents/Coronavirus/Covid_predictions/TN/Resources/Synched/TN_cases_yesterday.csv\")\n",
    "synched=TN_data.append(to_update, sort=True)\n",
    "TN_cases=synched.sort_values([\"County\", \"Date\"], ascending=True)\n",
    "TN_cases[\"Duplicates\"]=TN_cases[\"County\"]+TN_cases['Date']\n",
    "TN_cases = TN_cases.drop_duplicates(subset=\"Duplicates\", keep=\"last\")\n",
    "TN_overtime=TN_cases.drop('Duplicates', axis=1)\n",
    "TN_overtime=TN_overtime.drop('index', axis=1)\n",
    "TN_overtime.reset_index(drop=True, inplace=True)\n",
    "TN_overtime\n"
   ]
  },
  {
   "cell_type": "code",
   "execution_count": null,
   "metadata": {},
   "outputs": [],
   "source": [
    "TN_overtime.sort_values([\"County\", \"Date\"], ascending=True)\n",
    "\n"
   ]
  },
  {
   "cell_type": "markdown",
   "metadata": {},
   "source": [
    "## "
   ]
  },
  {
   "cell_type": "code",
   "execution_count": null,
   "metadata": {},
   "outputs": [],
   "source": [
    "TN_data[\"Percentage of County Population\"] = round((TN_data[\"Positive\"]/TN_data[\"Population\"])*100,3)\n",
    "TN_data.reset_index(drop=True)\n",
    "TN_data[\"Percent_Tested\"] = round(((TN_data[\"Positive\"]+TN_data[\"Negative\"])/TN_data[\"Population\"])*100,1)\n",
    "TN_data=TN_data.sort_values(\"Percent_Tested\", ascending=False)\n",
    "TN_data=TN_data\n",
    "TN_data\n"
   ]
  },
  {
   "cell_type": "code",
   "execution_count": null,
   "metadata": {},
   "outputs": [],
   "source": [
    "url2=\"https://raw.githubusercontent.com/nytimes/covid-19-data/master/us-counties.csv\"\n",
    "viral_times=pd.read_csv(url2)\n",
    "TN=viral_times[viral_times[\"state\"] == 'Tennessee']\n",
    "# TN=TN[TN[\"date\"] == '2020-03-31']\n",
    "TN=TN.rename(columns={'county':'County'})\n",
    "TN=TN.rename(columns={'date':'Date'})\n",
    "TN=TN.rename(columns={'cases':'Positive'})\n",
    "TN=TN.rename(columns={'deaths':'Deaths'})\n",
    "TN=TN.drop(['state'], axis=1)\n",
    "TN"
   ]
  },
  {
   "cell_type": "code",
   "execution_count": null,
   "metadata": {},
   "outputs": [],
   "source": [
    "TN_deaths = TN_data.merge(TN,left_on='County',right_on='County', how='left')\n",
    "TN_deaths.head(60)"
   ]
  },
  {
   "cell_type": "markdown",
   "metadata": {},
   "source": [
    "df_counties=viral[4]\n",
    "file = datetime.datetime.today()\n",
    "date = file[0:10]\n",
    "date\n"
   ]
  },
  {
   "cell_type": "code",
   "execution_count": null,
   "metadata": {},
   "outputs": [],
   "source": []
  },
  {
   "cell_type": "code",
   "execution_count": null,
   "metadata": {},
   "outputs": [],
   "source": [
    "# from pathlib import Path\n",
    "stuff=pd.read_csv(\"C:/Users/clayf/Documents/VU-NSH-DATA-PT-07-2019-U-C/Activities/Week3/02/09-Ins_WriteCSV/output/new.csv\")\n",
    "stuff[\"crapola\"]= 2\n",
    "stuff.to_csv(\"C:/Users/clayf/Documents/VU-NSH-DATA-PT-07-2019-U-C/Activities/Week3/02/09-Ins_WriteCSV/output/new.csv\", index=False)\n"
   ]
  },
  {
   "cell_type": "code",
   "execution_count": null,
   "metadata": {},
   "outputs": [],
   "source": [
    "\n"
   ]
  },
  {
   "cell_type": "code",
   "execution_count": null,
   "metadata": {},
   "outputs": [],
   "source": [
    "US = \"https://www.cdc.gov/coronavirus/2019-ncov/cases-updates/cases-in-us.html?CDC_AA_refVal=https%3A%2F%2Fwww.cdc.gov%2Fcoronavirus%2F2019-ncov%2Fcases-in-us.html\"\n",
    "us_data = pd.read_html(US)\n",
    "us_total_cases = us_data[0]\n",
    "us_total_cases.rename(columns={list(us_total_cases)[1]:'Total'}, inplace=True)\n",
    "us_total_cases['Total']=us_total_cases['Total'].astype(int)\n",
    "US = us_total_cases.iloc[3,1]"
   ]
  },
  {
   "cell_type": "code",
   "execution_count": null,
   "metadata": {},
   "outputs": [],
   "source": []
  },
  {
   "cell_type": "code",
   "execution_count": null,
   "metadata": {},
   "outputs": [],
   "source": [
    "date = datetime.datetime.today()\n",
    "date_modify = str(date)\n",
    "date_to_add = date_modify[0:10]\n",
    "x['date'] = date_to_add\n",
    "\n"
   ]
  },
  {
   "cell_type": "code",
   "execution_count": null,
   "metadata": {},
   "outputs": [],
   "source": [
    "\n",
    "\n",
    "\n"
   ]
  },
  {
   "cell_type": "code",
   "execution_count": null,
   "metadata": {},
   "outputs": [],
   "source": [
    "TN_ratio = (TN/6700000)*100\n",
    "US_ratio = (US/372000000)*100\n",
    "\n",
    "print(TN_ratio)\n",
    "print(US_ratio)"
   ]
  },
  {
   "cell_type": "code",
   "execution_count": null,
   "metadata": {},
   "outputs": [],
   "source": []
  },
  {
   "cell_type": "code",
   "execution_count": null,
   "metadata": {},
   "outputs": [],
   "source": []
  }
 ],
 "metadata": {
  "kernelspec": {
   "display_name": "Python 3",
   "language": "python",
   "name": "python3"
  },
  "language_info": {
   "codemirror_mode": {
    "name": "ipython",
    "version": 3
   },
   "file_extension": ".py",
   "mimetype": "text/x-python",
   "name": "python",
   "nbconvert_exporter": "python",
   "pygments_lexer": "ipython3",
   "version": "3.7.3"
  }
 },
 "nbformat": 4,
 "nbformat_minor": 2
}
