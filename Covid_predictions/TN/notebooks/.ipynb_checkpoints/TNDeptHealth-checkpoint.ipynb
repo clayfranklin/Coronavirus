{
 "cells": [
  {
   "cell_type": "code",
   "execution_count": null,
   "metadata": {},
   "outputs": [],
   "source": [
    "import pandas as pd\n",
    "from bs4 import BeautifulSoup as bs\n",
    "import requests\n",
    "import datetime\n",
    "import numpy as np"
   ]
  },
  {
   "cell_type": "code",
   "execution_count": null,
   "metadata": {},
   "outputs": [],
   "source": [
    "daily = \"https://www.tn.gov/health/cedep/ncov.html\"\n",
    "viral = pd.read_html(daily)\n",
    "df=viral[3]\n",
    "testing = df.drop([10])\n",
    "age_groups = testing.rename(columns={'Age Ranges of Confirmed Cases.1': 'Number_Cases'})\n",
    "age_groups\n"
   ]
  },
  {
   "cell_type": "code",
   "execution_count": null,
   "metadata": {},
   "outputs": [],
   "source": [
    "df_=viral[4]\n",
    "\n",
    "# df = df[:-1]\n",
    "df"
   ]
  },
  {
   "cell_type": "code",
   "execution_count": null,
   "metadata": {},
   "outputs": [],
   "source": [
    "TNpop = pd.read_csv(\"Population Estimates by County.csv\")\n",
    "TNpop= TNpop.drop([96])\n",
    "TNpop = TNpop.drop([0])\n",
    "TNpop[\"Population Estimates by County\"]= TNpop[\"Population Estimates by County\"].str.split(\"County\", n = 1, expand = True)\n",
    "TNpop = TNpop.rename(columns={'Population Estimates by County': 'County'})\n",
    "TN_county_populations = TNpop.rename(columns={'Unnamed: 1': 'Population'})\n",
    "TN_county_populations[\"Population\"] = TN_county_populations[\"Population\"].str.replace(\",\",\"\").astype(int)\n",
    "TN_county_populations.dtypes\n"
   ]
  },
  {
   "cell_type": "code",
   "execution_count": null,
   "metadata": {},
   "outputs": [],
   "source": []
  },
  {
   "cell_type": "code",
   "execution_count": null,
   "metadata": {},
   "outputs": [],
   "source": [
    "\n",
    "data=viral[4]\n",
    "\n",
    "data[\"County\"]= data[\"County\"].str.split(\"County\", n = 1, expand = True)\n",
    "data[\"Cases\"]=data[\"Cases\"].astype(int)\n",
    "data.dtypes"
   ]
  },
  {
   "cell_type": "code",
   "execution_count": null,
   "metadata": {},
   "outputs": [],
   "source": [
    "TN_pop_cases = pd.merge(data, TN_county_populations, how='inner', on='County')\n",
    "TN_pop_cases\n"
   ]
  },
  {
   "cell_type": "code",
   "execution_count": null,
   "metadata": {},
   "outputs": [],
   "source": [
    "TN_pop_cases[\"Percentage of County Population\"] = TN_pop_cases[\"Cases\"]/TN_pop_cases[\"Population\"]\n",
    "TN_pop_cases"
   ]
  },
  {
   "cell_type": "code",
   "execution_count": null,
   "metadata": {},
   "outputs": [],
   "source": [
    "totals = TN_pop_cases.sum()\n",
    "total = pd.DataFrame(totals)\n",
    "total\n"
   ]
  },
  {
   "cell_type": "markdown",
   "metadata": {},
   "source": [
    "df_counties=viral[4]\n",
    "file = datetime.datetime.today()\n",
    "date = file[0:10]\n",
    "date\n"
   ]
  },
  {
   "cell_type": "code",
   "execution_count": null,
   "metadata": {},
   "outputs": [],
   "source": []
  },
  {
   "cell_type": "code",
   "execution_count": null,
   "metadata": {},
   "outputs": [],
   "source": [
    "# from pathlib import Path\n",
    "# p = Path('C:/Users/clayf/Documents/HOC/Covid_predictions/TN/Resources/')\n",
    "df_counties.to_csv('C:/Users/clayf/Documents/HOC/Covid_predictions/TN/Resources/' + date +'counties2.csv',index=False)"
   ]
  },
  {
   "cell_type": "code",
   "execution_count": null,
   "metadata": {},
   "outputs": [],
   "source": [
    "\n"
   ]
  },
  {
   "cell_type": "code",
   "execution_count": null,
   "metadata": {},
   "outputs": [],
   "source": [
    "US = \"https://www.cdc.gov/coronavirus/2019-ncov/cases-updates/cases-in-us.html?CDC_AA_refVal=https%3A%2F%2Fwww.cdc.gov%2Fcoronavirus%2F2019-ncov%2Fcases-in-us.html\"\n",
    "us_data = pd.read_html(US)\n",
    "us_total_cases = us_data[0]\n",
    "us_total_cases\n",
    "x=us_data[0]\n",
    "x\n"
   ]
  },
  {
   "cell_type": "code",
   "execution_count": null,
   "metadata": {},
   "outputs": [],
   "source": []
  }
 ],
 "metadata": {
  "kernelspec": {
   "display_name": "Python 3",
   "language": "python",
   "name": "python3"
  },
  "language_info": {
   "codemirror_mode": {
    "name": "ipython",
    "version": 3
   },
   "file_extension": ".py",
   "mimetype": "text/x-python",
   "name": "python",
   "nbconvert_exporter": "python",
   "pygments_lexer": "ipython3",
   "version": "3.7.3"
  }
 },
 "nbformat": 4,
 "nbformat_minor": 2
}
